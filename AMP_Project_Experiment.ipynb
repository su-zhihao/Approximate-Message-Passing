{
  "cells": [
    {
      "cell_type": "code",
      "execution_count": 1,
      "metadata": {
        "id": "0UxJLxZ71-E5"
      },
      "outputs": [],
      "source": [
        "%load_ext autoreload\n",
        "%autoreload 2"
      ]
    },
    {
      "cell_type": "code",
      "execution_count": 2,
      "metadata": {
        "colab": {
          "base_uri": "https://localhost:8080/"
        },
        "id": "bAr-Ilugya15",
        "outputId": "51cfcdc1-88b5-456d-8b90-831c3a30e9ac"
      },
      "outputs": [
        {
          "name": "stdout",
          "output_type": "stream",
          "text": [
            "Installing for torch 2.6.0 and cu124\n",
            "\u001b[2K     \u001b[90m━━━━━━━━━━━━━━━━━━━━━━━━━━━━━━━━━━━━━━━━\u001b[0m \u001b[32m10.8/10.8 MB\u001b[0m \u001b[31m90.2 MB/s\u001b[0m eta \u001b[36m0:00:00\u001b[0m\n",
            "\u001b[2K     \u001b[90m━━━━━━━━━━━━━━━━━━━━━━━━━━━━━━━━━━━━━━━━\u001b[0m \u001b[32m5.0/5.0 MB\u001b[0m \u001b[31m56.0 MB/s\u001b[0m eta \u001b[36m0:00:00\u001b[0m\n",
            "\u001b[2K     \u001b[90m━━━━━━━━━━━━━━━━━━━━━━━━━━━━━━━━━━━━━━━━\u001b[0m \u001b[32m3.4/3.4 MB\u001b[0m \u001b[31m31.1 MB/s\u001b[0m eta \u001b[36m0:00:00\u001b[0m\n",
            "\u001b[2K     \u001b[90m━━━━━━━━━━━━━━━━━━━━━━━━━━━━━━━━━━━━━━━━\u001b[0m \u001b[32m1.0/1.0 MB\u001b[0m \u001b[31m15.0 MB/s\u001b[0m eta \u001b[36m0:00:00\u001b[0m\n",
            "\u001b[2K     \u001b[90m━━━━━━━━━━━━━━━━━━━━━━━━━━━━━━━━━━━━━━━━\u001b[0m \u001b[32m63.1/63.1 kB\u001b[0m \u001b[31m2.6 MB/s\u001b[0m eta \u001b[36m0:00:00\u001b[0m\n",
            "\u001b[2K   \u001b[90m━━━━━━━━━━━━━━━━━━━━━━━━━━━━━━━━━━━━━━━━\u001b[0m \u001b[32m1.1/1.1 MB\u001b[0m \u001b[31m29.7 MB/s\u001b[0m eta \u001b[36m0:00:00\u001b[0m\n",
            "\u001b[?25h"
          ]
        }
      ],
      "source": [
        "# Detect torch & CUDA versions\n",
        "import torch\n",
        "TORCH = torch.__version__.split('+')[0]            # e.g. \"2.1.0\"\n",
        "CUDA  = 'cu' + torch.version.cuda.replace('.', '') # e.g. \"cu118\"\n",
        "print(\"Installing for torch\", TORCH, \"and\", CUDA)\n",
        "\n",
        "# Install the pre-built extensions\n",
        "!pip install --quiet torch-scatter   -f https://data.pyg.org/whl/torch-{TORCH}+{CUDA}.html\n",
        "!pip install --quiet torch-sparse    -f https://data.pyg.org/whl/torch-{TORCH}+{CUDA}.html\n",
        "!pip install --quiet torch-cluster   -f https://data.pyg.org/whl/torch-{TORCH}+{CUDA}.html\n",
        "!pip install --quiet torch-spline-conv -f https://data.pyg.org/whl/torch-{TORCH}+{CUDA}.html\n",
        "\n",
        "# Finally install PyG itself\n",
        "!pip install --quiet torch-geometric"
      ]
    },
    {
      "cell_type": "code",
      "execution_count": 3,
      "metadata": {
        "colab": {
          "base_uri": "https://localhost:8080/"
        },
        "id": "Y0oS1KFlzsHO",
        "outputId": "20dec82c-8cbc-46b7-d5b9-3dc7862ce146"
      },
      "outputs": [
        {
          "name": "stdout",
          "output_type": "stream",
          "text": [
            "Mounted at /content/drive\n"
          ]
        }
      ],
      "source": [
        "from google.colab import drive\n",
        "drive.mount('/content/drive')"
      ]
    },
    {
      "cell_type": "markdown",
      "metadata": {
        "colab": {
          "base_uri": "https://localhost:8080/"
        },
        "id": "7iwOsMMu0Fd2",
        "outputId": "69e609d9-3a47-4f0f-eab3-4c2ee44dfbf7"
      },
      "source": [
        "### If done on colab, make sure to cd to the location/repo that contain all the files. \n",
        "\n",
        "### Below are example usages of short scripts for quick valiation and a long script for more comprehensive ablation studies."
      ]
    },
    {
      "cell_type": "code",
      "execution_count": 6,
      "metadata": {
        "colab": {
          "base_uri": "https://localhost:8080/"
        },
        "id": "va3U-B9Mz1NH",
        "outputId": "d5d1b124-7cd5-47a3-a426-2e6991234217"
      },
      "outputs": [
        {
          "name": "stdout",
          "output_type": "stream",
          "text": [
            "Epoch 050 | Loss 0.0739 | Train 1.0000 | Val 0.7640 | Test 0.7880 | 1.5s elapsed\n",
            "Epoch 100 | Loss 0.0381 | Train 1.0000 | Val 0.7780 | Test 0.8010 | 1.8s elapsed\n",
            "Epoch 150 | Loss 0.0357 | Train 1.0000 | Val 0.7700 | Test 0.8060 | 2.0s elapsed\n",
            "Epoch 200 | Loss 0.0218 | Train 1.0000 | Val 0.7700 | Test 0.8040 | 2.3s elapsed\n",
            "\n",
            "Final Test Accuracy: 0.8070\n",
            "Total time: 2.3s\n"
          ]
        }
      ],
      "source": [
        "# Standard GCN baseline\n",
        "!python amp_gnn_experiment.py --model gcn --dataset Cora --hid 16 --epochs 200 --lr 0.01"
      ]
    },
    {
      "cell_type": "code",
      "execution_count": 7,
      "metadata": {
        "colab": {
          "base_uri": "https://localhost:8080/"
        },
        "id": "TgTy1zZ8hbYw",
        "outputId": "1eda447b-03af-4d05-e392-dd7e634a7e98"
      },
      "outputs": [
        {
          "name": "stdout",
          "output_type": "stream",
          "text": [
            "Epoch 050 | Loss 25.3676 | Train 0.8571 | Val 0.5340 | Test 0.5400 | 0.8s elapsed\n",
            "Epoch 100 | Loss 81.6840 | Train 0.9357 | Val 0.6540 | Test 0.6730 | 1.2s elapsed\n",
            "Epoch 150 | Loss 3247.6470 | Train 0.7286 | Val 0.3960 | Test 0.4120 | 1.6s elapsed\n",
            "Epoch 200 | Loss 3015.0168 | Train 0.7929 | Val 0.5220 | Test 0.5290 | 2.0s elapsed\n",
            "\n",
            "Final Test Accuracy: 0.7280\n",
            "Total time: 2.0s\n"
          ]
        }
      ],
      "source": [
        "!python amp_gnn_experiment.py \\\n",
        "  --model amp \\\n",
        "  --agg add \\\n",
        "  --damping 0.2 \\\n",
        "  --use_skip \\\n",
        "  --hid 16 \\\n",
        "  --epochs 200 \\\n",
        "  --lr 0.01 \\\n",
        "  --wd 5e-4 \\\n",
        "  --seed 0"
      ]
    },
    {
      "cell_type": "code",
      "execution_count": 9,
      "metadata": {
        "colab": {
          "base_uri": "https://localhost:8080/"
        },
        "id": "qnrclxAh7ILb",
        "outputId": "b327bdfc-d7cc-49c0-e898-a0ad02f5e317"
      },
      "outputs": [
        {
          "name": "stdout",
          "output_type": "stream",
          "text": [
            "Epoch 050 | Loss 252.8925 | Train 0.6786 | Val 0.3520 | Test 0.3070 | 0.8s elapsed\n",
            "Epoch 100 | Loss 141.3209 | Train 0.9143 | Val 0.5760 | Test 0.5850 | 1.2s elapsed\n",
            "Epoch 150 | Loss 112.5754 | Train 0.9786 | Val 0.6140 | Test 0.6360 | 1.6s elapsed\n",
            "Epoch 200 | Loss 689.8181 | Train 0.9429 | Val 0.6500 | Test 0.6850 | 2.0s elapsed\n",
            "\n",
            "Final Test Accuracy: 0.6850\n",
            "Total time: 2.0s\n"
          ]
        }
      ],
      "source": [
        "!python amp_gnn_experiment.py \\\n",
        "  --model amp \\\n",
        "  --lamp \\\n",
        "  --agg add \\\n",
        "  --damping 0.2 \\\n",
        "  --use_skip \\\n",
        "  --hid 16 \\\n",
        "  --epochs 200 \\\n",
        "  --lr 0.01 \\\n",
        "  --wd 5e-4 \\\n",
        "  --seed 0"
      ]
    },
    {
      "cell_type": "code",
      "execution_count": 11,
      "metadata": {
        "colab": {
          "base_uri": "https://localhost:8080/"
        },
        "id": "YEJkKcI36ChZ",
        "outputId": "e328325f-1c6a-4c6c-b5af-5dd355dafb63"
      },
      "outputs": [
        {
          "name": "stdout",
          "output_type": "stream",
          "text": [
            "Epoch 050 | Loss 50.8019 | Train 0.4357 | Val 0.3860 | Test 0.3480 | 0.8s elapsed\n",
            "Epoch 100 | Loss 1022.2671 | Train 0.1429 | Val 0.1620 | Test 0.1490 | 1.1s elapsed\n",
            "Epoch 150 | Loss 1519.7878 | Train 0.1429 | Val 0.1620 | Test 0.1490 | 1.5s elapsed\n",
            "Epoch 200 | Loss 1.9459 | Train 0.1429 | Val 0.1220 | Test 0.1300 | 1.9s elapsed\n",
            "\n",
            "Final Test Accuracy: 0.4450\n",
            "Total time: 1.9s\n"
          ]
        }
      ],
      "source": [
        "!python amp_gnn_experiment.py \\\n",
        "  --model amp --agg add --damping 0.2 \\\n",
        "  --hid 16 --epochs 200 --lr 0.01 --wd 5e-4 --seed 0"
      ]
    },
    {
      "cell_type": "code",
      "execution_count": 12,
      "metadata": {
        "colab": {
          "base_uri": "https://localhost:8080/"
        },
        "id": "6NCdYLtN5bAz",
        "outputId": "d90c9a61-6d5b-4823-f47a-cc30eb56b5b9"
      },
      "outputs": [
        {
          "name": "stdout",
          "output_type": "stream",
          "text": [
            "Epoch 050 | Loss 24418265088.0000 | Train 0.5071 | Val 0.1540 | Test 0.1690 | 0.9s elapsed\n",
            "Epoch 100 | Loss 4102855540253210443776.0000 | Train 0.5143 | Val 0.2880 | Test 0.3060 | 1.3s elapsed\n",
            "Epoch 150 | Loss 265757118413975784436051723943936.0000 | Train 0.5429 | Val 0.2880 | Test 0.2970 | 1.8s elapsed\n",
            "Epoch 200 | Loss nan | Train 0.1429 | Val 0.1220 | Test 0.1300 | 2.3s elapsed\n",
            "\n",
            "Final Test Accuracy: 0.2940\n",
            "Total time: 2.3s\n"
          ]
        }
      ],
      "source": [
        "# LAMP variant with residual skips and mixed aggregator\n",
        "!python amp_gnn_experiment.py --model amp --lamp --use_skip --agg mix --damping 0.5 --memory 2 --hid 16 --epochs 200"
      ]
    },
    {
      "cell_type": "code",
      "execution_count": null,
      "metadata": {
        "colab": {
          "base_uri": "https://localhost:8080/"
        },
        "id": "02rXvOQDXq8q",
        "outputId": "bdee5822-af86-4fab-8c08-6464bce74062"
      },
      "outputs": [
        {
          "name": "stdout",
          "output_type": "stream",
          "text": [
            "Done!\n"
          ]
        }
      ],
      "source": [
        "%%bash\n",
        "cat > run_ablation.sh << 'EOF'\n",
        "#!/usr/bin/env bash\n",
        "# Cora ablation: GCN vs AMP variants\n",
        "DATASET=\"Cora\"\n",
        "EPOCHS=200; LR=0.01; WD=5e-4\n",
        "SEEDS=(0 1 2)\n",
        "DAMPINGS=(0.2 0.5 0.8)\n",
        "\n",
        "echo \"# Model Seed Damping Skip LAMP Memory Accuracy\" > results.txt\n",
        "\n",
        "# Baseline GCN\n",
        "for seed in \"${SEEDS[@]}\"; do\n",
        "  ACC=$(python amp_gnn_experiment.py \\\n",
        "    --model gcn --dataset $DATASET --hid 16 --epochs $EPOCHS \\\n",
        "    --lr $LR --wd $WD --seed $seed \\\n",
        "    | grep \"Final Test Accuracy\" | awk '{print $4}')\n",
        "  echo \"GCN $seed - No No 0 $ACC\" >> results.txt\n",
        "done\n",
        "\n",
        "# AMPConv variants\n",
        "for damping in \"${DAMPINGS[@]}\"; do\n",
        "  for seed in \"${SEEDS[@]}\"; do\n",
        "    # plain AMPConv\n",
        "    ACC=$(python amp_gnn_experiment.py --model amp --dataset $DATASET --hid 16 \\\n",
        "      --epochs $EPOCHS --lr $LR --wd $WD --damping $damping --memory 0 --seed $seed \\\n",
        "      | grep \"Final Test Accuracy\" | awk '{print $4}')\n",
        "    echo \"AMPConv $seed $damping No No 0 $ACC\" >> results.txt\n",
        "\n",
        "    # + skip\n",
        "    ACC=$(python amp_gnn_experiment.py --model amp --dataset $DATASET --hid 16 \\\n",
        "      --epochs $EPOCHS --lr $LR --wd $WD --damping $damping --memory 0 \\\n",
        "      --use_skip --seed $seed \\\n",
        "      | grep \"Final Test Accuracy\" | awk '{print $4}')\n",
        "    echo \"AMPConv $seed $damping Yes No 0 $ACC\" >> results.txt\n",
        "\n",
        "    # + LAMP\n",
        "    ACC=$(python amp_gnn_experiment.py --model amp --dataset $DATASET --hid 16 \\\n",
        "      --epochs $EPOCHS --lr $LR --wd $WD --damping $damping --memory 0 \\\n",
        "      --use_skip --lamp --seed $seed \\\n",
        "      | grep \"Final Test Accuracy\" | awk '{print $4}')\n",
        "    echo \"AMPConv $seed $damping Yes Yes 0 $ACC\" >> results.txt\n",
        "\n",
        "    # + memory\n",
        "    ACC=$(python amp_gnn_experiment.py --model amp --dataset $DATASET --hid 16 \\\n",
        "      --epochs $EPOCHS --lr $LR --wd $WD --damping $damping --memory 1 \\\n",
        "      --use_skip --seed $seed \\\n",
        "      | grep \"Final Test Accuracy\" | awk '{print $4}')\n",
        "    echo \"AMPConv $seed $damping Yes No 1 $ACC\" >> results.txt\n",
        "  done\n",
        "done\n",
        "\n",
        "# VAMPBlock\n",
        "for seed in \"${SEEDS[@]}\"; do\n",
        "  ACC=$(python amp_gnn_experiment.py --model vamp --dataset $DATASET --hid 16 \\\n",
        "    --epochs $EPOCHS --lr $LR --wd $WD --seed $seed \\\n",
        "    | grep \"Final Test Accuracy\" | awk '{print $4}')\n",
        "  echo \"VAMPBlock $seed - No No 0 $ACC\" >> results.txt\n",
        "done\n",
        "\n",
        "echo \"Done!\"\n",
        "EOF\n",
        "\n",
        "chmod +x run_ablation.sh\n",
        "./run_ablation.sh\n"
      ]
    }
  ],
  "metadata": {
    "accelerator": "GPU",
    "colab": {
      "gpuType": "T4",
      "provenance": []
    },
    "kernelspec": {
      "display_name": "Python 3",
      "name": "python3"
    },
    "language_info": {
      "name": "python"
    }
  },
  "nbformat": 4,
  "nbformat_minor": 0
}
